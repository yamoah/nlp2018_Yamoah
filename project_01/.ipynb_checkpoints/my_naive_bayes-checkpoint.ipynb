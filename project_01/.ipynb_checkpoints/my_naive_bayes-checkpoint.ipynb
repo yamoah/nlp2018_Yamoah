{
 "cells": [
  {
   "cell_type": "code",
   "execution_count": null,
   "metadata": {},
   "outputs": [],
   "source": [
    "#yamoah naive bayes"
   ]
  },
  {
   "cell_type": "code",
   "execution_count": null,
   "metadata": {},
   "outputs": [],
   "source": [
    "import math\n",
    "\n",
    "def TryNaive(D, C):\n",
    "    for c in C:\n",
    "        nDoc = 1 #number of documents in D\n",
    "        nCD = 1 #number of documents in from D in class C\n",
    "        logprior[c] = math.log(nCD/nDoc)\n",
    "        V = \"\"    #vocabulary of D\n",
    "        bigdoc[c] = append\n",
    "        #.....\n",
    "        #.....\n",
    "        #.....\n",
    "        #.....\n",
    "    #return log P(c) and log P(w|c)"
   ]
  },
  {
   "cell_type": "code",
   "execution_count": null,
   "metadata": {},
   "outputs": [],
   "source": [
    "def testNaive(testdoc, logprior, loglikelihood,C,V):\n",
    "    for c in C:\n",
    "        sum[c] = logprior[c]\n",
    "        for i in testdoc:\n",
    "            word = testdoc[i]\n",
    "            #if word is and element of V:\n",
    "                #sum[c] = sum[c] + loglikelihood[word,c]\n",
    "    return argmax(sum[c])#return c with the highest probability"
   ]
  },
  {
   "cell_type": "code",
   "execution_count": null,
   "metadata": {},
   "outputs": [],
   "source": [
    "#sorts the words\n",
    "myString = \"e2e 1 oo 5\"\n",
    "myLen = myString.split()\n",
    "for str in myLen: # splits the sentence and prints whole words..\n",
    "    #if str in \"[a-zA-Z]\":\n",
    "    count = 0\n",
    "    for char in str:\n",
    "        if char.isalpha():\n",
    "            count = count + 1\n",
    "    if count == len(str):\n",
    "        print(str, end=\" \")"
   ]
  },
  {
   "cell_type": "code",
   "execution_count": null,
   "metadata": {},
   "outputs": [],
   "source": [
    "#___Still on the Trainer___#\n",
    "#Accesses words and their classes\n",
    "###myFile.read()myFile.readline()myFile.readlines()\n",
    "myFile = open(\"test2.txt\",\"r\")\n",
    "line = myFile.readline()\n",
    "numWords = 0\n",
    "#count =-1\n",
    "while line!=\"\":\n",
    "    lineSplit = line.split()\n",
    "    lineLength = len(lineSplit)\n",
    "    rClass = lineSplit[lineLength-1] #the class (0 or 1)\n",
    "    numWords = numWords + (len(lineSplit)-1)\n",
    "    #count = count + 1\n",
    "    #print(rClass, end=\" \")# prints the class\n",
    "    #print(count, end=\"\")\n",
    "    #print(\"line \", end=\" \")\n",
    "    line = myFile.readline()"
   ]
  },
  {
   "cell_type": "code",
   "execution_count": null,
   "metadata": {},
   "outputs": [],
   "source": [
    "name = set([\"yamoah\",\"asiedu\",\"bentil\"])\n",
    "#x = set(name)\n",
    "print(name)\n",
    "name.add(\"nana\")\n",
    "print(name)\n",
    "name.add(\"yaw\")\n",
    "print(name)\n",
    "name.remove(\"asiedu\")\n",
    "print(name)\n",
    "myOutput = open(\"myData.out\",\"w\")\n",
    "myOutput.write(\"This is the first line\\n\")\n",
    "count = 100\n",
    "myOutput.write(\"This is the second line %d\" %(count))\n",
    "myOutput.close()"
   ]
  },
  {
   "cell_type": "code",
   "execution_count": null,
   "metadata": {},
   "outputs": [],
   "source": [
    "def myfunc(n):\n",
    "  return len(n)\n",
    "\n",
    "x = map(myfunc, ('apple', 'banana', 'cherry'))"
   ]
  },
  {
   "cell_type": "code",
   "execution_count": null,
   "metadata": {},
   "outputs": [],
   "source": []
  },
  {
   "cell_type": "code",
   "execution_count": null,
   "metadata": {},
   "outputs": [],
   "source": [
    "#___Still on the Trainer___#\n",
    "#Accesses words and their classes\n",
    "classOne = [\"\"]\n",
    "classTwo = [\"\"]\n",
    "noClass = [\"\"]\n",
    "BagOfWords = [\"\"]\n",
    "\n",
    "\n",
    "def readDataSet():\n",
    "    myFile = open(\"test.txt\",\"r\")\n",
    "    line = myFile.readline()\n",
    "    countx=county=countz=0\n",
    "    while line!=\"\":\n",
    "        lineSplit = line.split()\n",
    "        lineLength = len(lineSplit)\n",
    "        rClass = lineSplit[lineLength-1] #the class (0 or 1)\n",
    "        lineSplit2 = lineSplit.pop(lineLength-1)\n",
    "        if(rClass==\"0\"):\n",
    "            classOne.extend(lineSplit)\n",
    "        elif(rClass==\"1\"):\n",
    "            classTwo.extend(lineSplit)\n",
    "        else:\n",
    "            noClass.extend(lineSplit)\n",
    "            noClass.append(rClass)\n",
    "        line = myFile.readline()\n",
    "    for x in classOne:\n",
    "        print(x)\n",
    "    print(\"-----------------------------------------\")\n",
    "    for y in classTwo:\n",
    "        print(y)\n",
    "    print(\"-----------------------------------------\")\n",
    "    for z in noClass:\n",
    "        print(z)  "
   ]
  },
  {
   "cell_type": "code",
   "execution_count": 10,
   "metadata": {},
   "outputs": [],
   "source": [
    "document = [\"\"]\n",
    "oneClassOccur = []\n",
    "twoClassOccur = []\n",
    "def readDocument():\n",
    "    myFile = open(\"test.txt\",\"r\")\n",
    "    line = myFile.readline()\n",
    "    while line!=\"\":\n",
    "        lineSplit = line.split()\n",
    "        lineLength = len(lineSplit)\n",
    "        for i in range(lineLength):\n",
    "            oneClassOccur.append(findInDataSet(lineSplit[i], classOne))\n",
    "            twoClassOccur.append(findInDataSet(lineSplit[i], classTwo))\n",
    "            \n",
    "def findInDataSet(word, dClass):\n",
    "    oneResult = dClass.count(word)\n",
    "    return oneResult;\n",
    "    \n",
    "    "
   ]
  },
  {
   "cell_type": "code",
   "execution_count": 2,
   "metadata": {},
   "outputs": [
    {
     "name": "stdout",
     "output_type": "stream",
     "text": [
      "4\n",
      "1000\n"
     ]
    }
   ],
   "source": []
  },
  {
   "cell_type": "code",
   "execution_count": null,
   "metadata": {},
   "outputs": [],
   "source": [
    "#_____Aahhh\n",
    "def newFunc(n):\n",
    "    myMatrix = [[[] for i in range(n)] for i in range(n)]\n",
    "    for i in range(n):\n",
    "        for j in range(n):\n",
    "            myMatrix[i][j] = j + i\n",
    "    print(myMatrix)\n",
    "newFunc(2)"
   ]
  },
  {
   "cell_type": "code",
   "execution_count": null,
   "metadata": {},
   "outputs": [],
   "source": [
    "exam = [\"apple\",\"orange\",\"pineapple\",\"apple\",\"banana\",\"apple\",\"kiwi\",\"apple\",\"berry\"];\n",
    "result = exam.count(\"apple\")\n",
    "print(result)\n",
    "num_lines = sum(1 for line in open('test2.txt'))\n",
    "print(num_lines)"
   ]
  },
  {
   "cell_type": "code",
   "execution_count": null,
   "metadata": {},
   "outputs": [],
   "source": []
  },
  {
   "cell_type": "code",
   "execution_count": null,
   "metadata": {},
   "outputs": [],
   "source": []
  },
  {
   "cell_type": "code",
   "execution_count": null,
   "metadata": {},
   "outputs": [],
   "source": []
  }
 ],
 "metadata": {
  "kernelspec": {
   "display_name": "Python 3",
   "language": "python",
   "name": "python3"
  },
  "language_info": {
   "codemirror_mode": {
    "name": "ipython",
    "version": 3
   },
   "file_extension": ".py",
   "mimetype": "text/x-python",
   "name": "python",
   "nbconvert_exporter": "python",
   "pygments_lexer": "ipython3",
   "version": "3.7.0"
  }
 },
 "nbformat": 4,
 "nbformat_minor": 2
}
