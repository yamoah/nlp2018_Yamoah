{
 "cells": [
  {
   "cell_type": "code",
   "execution_count": 1,
   "metadata": {},
   "outputs": [],
   "source": [
    "#yamoah naive bayes"
   ]
  },
  {
   "cell_type": "code",
   "execution_count": 14,
   "metadata": {},
   "outputs": [],
   "source": [
    "import math\n",
    "\n",
    "def TryNaive(D, C):\n",
    "    for c in C:\n",
    "        nDoc = 1 #number of documents in D\n",
    "        nCD = 1 #number of documents in from D in class C\n",
    "        logprior[c] = math.log(nCD/nDoc)\n",
    "        V = \"\"    #vocabulary of D\n",
    "        bigdoc[c] = append\n",
    "        #.....\n",
    "        #.....\n",
    "        #.....\n",
    "        #.....\n",
    "    #return log P(c) and log P(w|c)"
   ]
  },
  {
   "cell_type": "code",
   "execution_count": 33,
   "metadata": {},
   "outputs": [],
   "source": [
    "def testNaive(testdoc, logprior, loglikelihood,C,V):\n",
    "    for c in C:\n",
    "        sum[c] = logprior[c]\n",
    "        for i in testdoc:\n",
    "            word = testdoc[i]\n",
    "            #if word is and element of V:\n",
    "                #sum[c] = sum[c] + loglikelihood[word,c]\n",
    "    return argmax(sum[c])#return c with the highest probability"
   ]
  },
  {
   "cell_type": "code",
   "execution_count": 62,
   "metadata": {},
   "outputs": [
    {
     "name": "stdout",
     "output_type": "stream",
     "text": [
      "oo "
     ]
    }
   ],
   "source": [
    "#sorts the words\n",
    "myString = \"e2e 1 oo 5\"\n",
    "myLen = myString.split()\n",
    "for str in myLen: # splits the sentence and prints whole words..\n",
    "    #if str in \"[a-zA-Z]\":\n",
    "    count = 0\n",
    "    for char in str:\n",
    "        if char.isalpha():\n",
    "            count = count + 1\n",
    "    if count == len(str):\n",
    "        print(str, end=\" \")"
   ]
  },
  {
   "cell_type": "code",
   "execution_count": 96,
   "metadata": {},
   "outputs": [],
   "source": [
    "#___Still on the Trainer___#\n",
    "#Accesses words and their classes\n",
    "###myFile.read()myFile.readline()myFile.readlines()\n",
    "myFile = open(\"test2.txt\",\"r\")\n",
    "line = myFile.readline()\n",
    "numWords = 0\n",
    "#count =-1\n",
    "while line!=\"\":\n",
    "    lineSplit = line.split()\n",
    "    lineLength = len(lineSplit)\n",
    "    rClass = lineSplit[lineLength-1] #the class (0 or 1)\n",
    "    numWords = numWords + (len(lineSplit)-1)\n",
    "    #count = count + 1\n",
    "    #print(rClass, end=\" \")# prints the class\n",
    "    #print(count, end=\"\")\n",
    "    #print(\"line \", end=\" \")\n",
    "    line = myFile.readline()"
   ]
  },
  {
   "cell_type": "code",
   "execution_count": 122,
   "metadata": {},
   "outputs": [
    {
     "name": "stdout",
     "output_type": "stream",
     "text": [
      "{'asiedu', 'yamoah', 'bentil'}\n",
      "{'asiedu', 'yamoah', 'bentil', 'nana'}\n",
      "{'nana', 'asiedu', 'yaw', 'bentil', 'yamoah'}\n",
      "{'nana', 'yaw', 'bentil', 'yamoah'}\n"
     ]
    }
   ],
   "source": [
    "name = set([\"yamoah\",\"asiedu\",\"bentil\"])\n",
    "#x = set(name)\n",
    "print(name)\n",
    "name.add(\"nana\")\n",
    "print(name)\n",
    "name.add(\"yaw\")\n",
    "print(name)\n",
    "name.remove(\"asiedu\")\n",
    "print(name)\n",
    "myOutput = open(\"myData.out\",\"w\")\n",
    "myOutput.write(\"This is the first line\\n\")\n",
    "count = 100\n",
    "myOutput.write(\"This is the second line %d\" %(count))\n",
    "myOutput.close()"
   ]
  },
  {
   "cell_type": "code",
   "execution_count": 87,
   "metadata": {},
   "outputs": [],
   "source": [
    "def myfunc(n):\n",
    "  return len(n)\n",
    "\n",
    "x = map(myfunc, ('apple', 'banana', 'cherry'))"
   ]
  },
  {
   "cell_type": "code",
   "execution_count": null,
   "metadata": {},
   "outputs": [],
   "source": [
    "myBOW = {}"
   ]
  },
  {
   "cell_type": "code",
   "execution_count": 97,
   "metadata": {},
   "outputs": [],
   "source": [
    "#___Still on the Trainer___#\n",
    "#Accesses words and their classes\n",
    "myFile = open(\"test2.txt\",\"r\")\n",
    "line = myFile.readline()\n",
    "numWords = 0\n",
    "#count =-1\n",
    "while line!=\"\":\n",
    "    lineSplit = line.split()\n",
    "    lineLength = len(lineSplit)\n",
    "    rClass = lineSplit[lineLength-1] #the class (0 or 1)\n",
    "    numWords = numWords + (len(lineSplit)-1)\n",
    "    #count = count + 1\n",
    "    #print(rClass, end=\" \")# prints the class\n",
    "    #print(count, end=\"\")\n",
    "    #print(\"line \", end=\" \")\n",
    "    line = myFile.readline()"
   ]
  },
  {
   "cell_type": "code",
   "execution_count": 118,
   "metadata": {},
   "outputs": [
    {
     "name": "stdout",
     "output_type": "stream",
     "text": [
      "[[0, 1], [1, 2]]\n"
     ]
    }
   ],
   "source": [
    "#_____Aahhh\n",
    "def newFunc(n):\n",
    "    myMatrix = [[[] for i in range(n)] for i in range(n)]\n",
    "    for i in range(n):\n",
    "        for j in range(n):\n",
    "            myMatrix[i][j] = j + i\n",
    "    print(myMatrix)\n",
    "newFunc(2)"
   ]
  },
  {
   "cell_type": "code",
   "execution_count": 5,
   "metadata": {},
   "outputs": [
    {
     "ename": "SyntaxError",
     "evalue": "invalid syntax (<ipython-input-5-f5e2356996b8>, line 1)",
     "output_type": "error",
     "traceback": [
      "\u001b[1;36m  File \u001b[1;32m\"<ipython-input-5-f5e2356996b8>\"\u001b[1;36m, line \u001b[1;32m1\u001b[0m\n\u001b[1;33m    exam = [\"apple\",\"orange\",\"pineapple\".\"apple\",\"banana\",\"apple\",\"kiwi\",\"apple\",\"berry\"];\u001b[0m\n\u001b[1;37m                                               ^\u001b[0m\n\u001b[1;31mSyntaxError\u001b[0m\u001b[1;31m:\u001b[0m invalid syntax\n"
     ]
    }
   ],
   "source": [
    "exam = [\"apple\",\"orange\",\"pineapple\",\"apple\",\"banana\",\"apple\",\"kiwi\",\"apple\",\"berry\"];\n",
    "result = exam.count(\"apple\")\n",
    "print(result)"
   ]
  },
  {
   "cell_type": "code",
   "execution_count": null,
   "metadata": {},
   "outputs": [],
   "source": []
  }
 ],
 "metadata": {
  "kernelspec": {
   "display_name": "Python 3",
   "language": "python",
   "name": "python3"
  },
  "language_info": {
   "codemirror_mode": {
    "name": "ipython",
    "version": 3
   },
   "file_extension": ".py",
   "mimetype": "text/x-python",
   "name": "python",
   "nbconvert_exporter": "python",
   "pygments_lexer": "ipython3",
   "version": "3.7.0"
  }
 },
 "nbformat": 4,
 "nbformat_minor": 2
}
