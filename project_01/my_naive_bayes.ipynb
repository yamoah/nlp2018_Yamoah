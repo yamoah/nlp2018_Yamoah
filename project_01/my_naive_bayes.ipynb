{
 "cells": [
  {
   "cell_type": "code",
   "execution_count": 1,
   "metadata": {},
   "outputs": [],
   "source": [
    "#yamoah naive bayes"
   ]
  },
  {
   "cell_type": "code",
   "execution_count": 14,
   "metadata": {},
   "outputs": [],
   "source": [
    "import math\n",
    "\n",
    "def TryNaive(D, C):\n",
    "    for c in C:\n",
    "        nDoc = 1 #number of documents in D\n",
    "        nCD = 1 #number of documents in from D in class C\n",
    "        logprior[c] = math.log(nCD/nDoc)\n",
    "        V = \"\"    #vocabulary of D\n",
    "        bigdoc[c] = append\n",
    "        #.....\n",
    "        #.....\n",
    "        #.....\n",
    "        #.....\n",
    "    #return log P(c) and log P(w|c)"
   ]
  },
  {
   "cell_type": "code",
   "execution_count": null,
   "metadata": {},
   "outputs": [],
   "source": [
    "def testNaive(testdoc, logprior, loglikelihood,C,V):\n",
    "    for c in C:\n",
    "        sum[c] = logprior[c]\n",
    "        for i in testdoc:\n",
    "            word = testdoc[i]\n",
    "            if word is and element of V:\n",
    "                sum[c] = sum[c] + loglikelihood[word,c]\n",
    "    return argmax(sum[c])#return c with the highest probability"
   ]
  },
  {
   "cell_type": "code",
   "execution_count": 13,
   "metadata": {},
   "outputs": [
    {
     "name": "stdout",
     "output_type": "stream",
     "text": [
      "2.0\n"
     ]
    }
   ],
   "source": [
    "myFile = open(\"test.txt\",\"r\")"
   ]
  }
 ],
 "metadata": {
  "kernelspec": {
   "display_name": "Python 3",
   "language": "python",
   "name": "python3"
  },
  "language_info": {
   "codemirror_mode": {
    "name": "ipython",
    "version": 3
   },
   "file_extension": ".py",
   "mimetype": "text/x-python",
   "name": "python",
   "nbconvert_exporter": "python",
   "pygments_lexer": "ipython3",
   "version": "3.7.0"
  }
 },
 "nbformat": 4,
 "nbformat_minor": 2
}
