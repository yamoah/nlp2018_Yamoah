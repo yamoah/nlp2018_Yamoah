{
 "cells": [
  {
   "cell_type": "code",
   "execution_count": 1,
   "metadata": {},
   "outputs": [],
   "source": [
    "##...yamoah min-edit-distance....##"
   ]
  },
  {
   "cell_type": "code",
   "execution_count": 2,
   "metadata": {},
   "outputs": [],
   "source": [
    "import numpy as np"
   ]
  },
  {
   "cell_type": "code",
   "execution_count": 3,
   "metadata": {},
   "outputs": [],
   "source": [
    "def main(source, target):\n",
    "    distMatrix = min_edit_distance(source, target)\n",
    "    distMatrix = initiate(distMatrix, len(source), len(target))\n",
    "    med = recurrRelation(distMatrix,source,target)\n",
    "    print(distMatrix)\n",
    "    print(med)"
   ]
  },
  {
   "cell_type": "code",
   "execution_count": 4,
   "metadata": {},
   "outputs": [],
   "source": [
    "def min_edit_distance(source, target):\n",
    "    n = len(source) + 1\n",
    "    m = len(target) + 1\n",
    "    print(source +\" \"+ str(n))\n",
    "    print(target +\" \"+ str(m))\n",
    "    myMatrix = np.zeros((n,m))\n",
    "    #myMatrix = np.matrix(np.arange(n*m).reshape((n,m)))\n",
    "    return myMatrix"
   ]
  },
  {
   "cell_type": "code",
   "execution_count": 5,
   "metadata": {},
   "outputs": [],
   "source": [
    "def initiate(distanceMatrix, n, m):\n",
    "    #print(distanceMatrix)\n",
    "    #distanceMatrix.shape\n",
    "    for i in range(1,n+1):\n",
    "        distanceMatrix[i,0] = distanceMatrix[i-1,0] + 1 #del-cost(source[i])\n",
    "    for j in range(1,m+1):\n",
    "        distanceMatrix[0,j] = distanceMatrix[0,j-1] + 1 #ins-cost(target[j])\n",
    "    return distanceMatrix"
   ]
  },
  {
   "cell_type": "code",
   "execution_count": 6,
   "metadata": {},
   "outputs": [],
   "source": [
    "def recurrRelation(D, source, target):\n",
    "    n = len(source)\n",
    "    m = len(target)\n",
    "    for i in range(1,n+1):\n",
    "        for j in range(1,m+1):\n",
    "            if(source[i-1]!=target[j-1]):\n",
    "                D[i,j]=min((D[i-1,j]+1),#del-cost(source[i])\n",
    "                           (D[i-1,j-1]+2),#sub-cost(source[i],target[j])\n",
    "                           (D[i,j-1]+1))#ins-cost(target[j])\n",
    "            else:\n",
    "                D[i,j]=min((D[i-1,j]+1),#del-cost(source[i])\n",
    "                           (D[i-1,j-1]),#sub-cost(source[i],target[j])\n",
    "                           (D[i,j-1]+1))#ins-cost(target[j])\n",
    "    return D[n,m]"
   ]
  },
  {
   "cell_type": "code",
   "execution_count": 9,
   "metadata": {},
   "outputs": [
    {
     "name": "stdout",
     "output_type": "stream",
     "text": [
      "intention 10\n",
      "execution 10\n",
      "[[ 0.  1.  2.  3.  4.  5.  6.  7.  8.  9.]\n",
      " [ 1.  2.  3.  4.  5.  6.  7.  6.  7.  8.]\n",
      " [ 2.  3.  4.  5.  6.  7.  8.  7.  8.  7.]\n",
      " [ 3.  4.  5.  6.  7.  8.  7.  8.  9.  8.]\n",
      " [ 4.  3.  4.  5.  6.  7.  8.  9. 10.  9.]\n",
      " [ 5.  4.  5.  6.  7.  8.  9. 10. 11. 10.]\n",
      " [ 6.  5.  6.  7.  8.  9.  8.  9. 10. 11.]\n",
      " [ 7.  6.  7.  8.  9. 10.  9.  8.  9. 10.]\n",
      " [ 8.  7.  8.  9. 10. 11. 10.  9.  8.  9.]\n",
      " [ 9.  8.  9. 10. 11. 12. 11. 10.  9.  8.]]\n",
      "8.0\n"
     ]
    }
   ],
   "source": [
    "main(\"intention\", \"execution\")"
   ]
  },
  {
   "cell_type": "code",
   "execution_count": null,
   "metadata": {},
   "outputs": [],
   "source": [
    "def doMatrix(n, m):\n",
    "    aa = np.matrix(np.arange(n*m).reshape((n,m)))\n",
    "    #print(aa.shape)\n",
    "    print(aa)\n",
    "#doMatrix(5,5)"
   ]
  },
  {
   "cell_type": "code",
   "execution_count": null,
   "metadata": {},
   "outputs": [],
   "source": [
    "#b = np.zeros((3,4))\n",
    "#b.shape\n",
    "#print(b)\n",
    "#print(\"----------------\")\n",
    "#for i in range(1,3):\n",
    "#    b[0,i] = i+10\n",
    "#print(b)"
   ]
  },
  {
   "cell_type": "code",
   "execution_count": null,
   "metadata": {},
   "outputs": [],
   "source": []
  }
 ],
 "metadata": {
  "kernelspec": {
   "display_name": "Python 3",
   "language": "python",
   "name": "python3"
  },
  "language_info": {
   "codemirror_mode": {
    "name": "ipython",
    "version": 3
   },
   "file_extension": ".py",
   "mimetype": "text/x-python",
   "name": "python",
   "nbconvert_exporter": "python",
   "pygments_lexer": "ipython3",
   "version": "3.7.0"
  }
 },
 "nbformat": 4,
 "nbformat_minor": 2
}
