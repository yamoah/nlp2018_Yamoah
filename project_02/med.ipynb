{
 "cells": [
  {
   "cell_type": "code",
   "execution_count": null,
   "metadata": {},
   "outputs": [],
   "source": [
    "##...yamoah min-edit-distance....##"
   ]
  },
  {
   "cell_type": "code",
   "execution_count": 2,
   "metadata": {},
   "outputs": [],
   "source": [
    "import numpy as np"
   ]
  },
  {
   "cell_type": "code",
   "execution_count": null,
   "metadata": {},
   "outputs": [],
   "source": [
    "def main(source, target):\n",
    "    distMatrix = min_edit_distance(source, target)\n",
    "    #distMatrix = initiate(distMatrix, len(source), len(target))\n",
    "    #print(distMatrix)\n",
    "    med = recurrRelation(distMatrix)"
   ]
  },
  {
   "cell_type": "code",
   "execution_count": null,
   "metadata": {},
   "outputs": [],
   "source": [
    "def min_edit_distance(source, target):\n",
    "    n = len(source)\n",
    "    m = len(target)\n",
    "    print(source +\" \"+ str(n))\n",
    "    print(target +\" \"+ str(m))\n",
    "    myMatrix = np.zeros((n+1,m+1))\n",
    "    return myMatrix"
   ]
  },
  {
   "cell_type": "code",
   "execution_count": null,
   "metadata": {},
   "outputs": [],
   "source": [
    "def initiate(distanceMatrix, n, m):\n",
    "    #print(distanceMatrix)\n",
    "    #distanceMatrix.shape\n",
    "    for i in range(1,n)\n",
    "        distanceMatrix[i,0] = distanceMatrix[i-1,0] + 1 #(source[i])\n",
    "    for i in range(1,m)\n",
    "        distanceMatrix[0,j] = distanceMatrix[0,j-1] + 1 #(target[j])\n",
    "    return distanceMatrix"
   ]
  },
  {
   "cell_type": "code",
   "execution_count": null,
   "metadata": {},
   "outputs": [],
   "source": [
    "def recurrRelation(D):\n",
    "    for i in range(1,n)\n",
    "        for i in range(1,m)\n",
    "            D[i,j]=min((D[i-1,j]+1),(D[i-1,j-1]+1),(D[i,j-1]+1))\n",
    "    return D[n,m]"
   ]
  },
  {
   "cell_type": "code",
   "execution_count": null,
   "metadata": {},
   "outputs": [],
   "source": [
    "#main(\"good\", \"b\")"
   ]
  },
  {
   "cell_type": "code",
   "execution_count": 16,
   "metadata": {},
   "outputs": [
    {
     "name": "stdout",
     "output_type": "stream",
     "text": [
      "[[0. 0. 0. 0.]\n",
      " [0. 0. 0. 0.]\n",
      " [0. 0. 0. 0.]]\n",
      "----------------\n",
      "[[10. 11. 12.  0.]\n",
      " [ 0.  0.  0.  0.]\n",
      " [ 0.  0.  0.  0.]]\n"
     ]
    }
   ],
   "source": [
    "#b = np.zeros((3,4))\n",
    "#b.shape\n",
    "#print(b)\n",
    "#print(\"----------------\")\n",
    "#for i in range(1,3):\n",
    "#    b[0,i] = i+10\n",
    "#print(b)"
   ]
  },
  {
   "cell_type": "code",
   "execution_count": null,
   "metadata": {},
   "outputs": [],
   "source": []
  },
  {
   "cell_type": "code",
   "execution_count": null,
   "metadata": {},
   "outputs": [],
   "source": []
  }
 ],
 "metadata": {
  "kernelspec": {
   "display_name": "Python 3",
   "language": "python",
   "name": "python3"
  },
  "language_info": {
   "codemirror_mode": {
    "name": "ipython",
    "version": 3
   },
   "file_extension": ".py",
   "mimetype": "text/x-python",
   "name": "python",
   "nbconvert_exporter": "python",
   "pygments_lexer": "ipython3",
   "version": "3.7.0"
  }
 },
 "nbformat": 4,
 "nbformat_minor": 2
}
